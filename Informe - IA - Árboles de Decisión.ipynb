{
 "cells": [
  {
   "cell_type": "markdown",
   "id": "bd0e23ee-732c-4e26-a073-0e5fafff0b34",
   "metadata": {},
   "source": [
    "# Técnica de Árboles de Decisión para predecir un derrame cerebral"
   ]
  },
  {
   "cell_type": "markdown",
   "id": "2a21889d-0230-4df5-926a-a616937f116e",
   "metadata": {},
   "source": [
    "## Importar librerías"
   ]
  },
  {
   "cell_type": "code",
   "execution_count": 1,
   "id": "96c1dbd2-1845-42d4-92b3-2c6ba4f509c1",
   "metadata": {},
   "outputs": [],
   "source": [
    "import pandas as pd\n",
    "import sklearn\n",
    "import warnings"
   ]
  },
  {
   "cell_type": "markdown",
   "id": "dc54d505-f836-4482-9f94-aab0fc0aac2f",
   "metadata": {},
   "source": [
    "## 1. Lectura del archivo 'stroke.csv'"
   ]
  },
  {
   "cell_type": "code",
   "execution_count": 2,
   "id": "08429f29-79f9-4b46-870b-228bbcebb7fa",
   "metadata": {},
   "outputs": [
    {
     "data": {
      "text/html": [
       "<div>\n",
       "<style scoped>\n",
       "    .dataframe tbody tr th:only-of-type {\n",
       "        vertical-align: middle;\n",
       "    }\n",
       "\n",
       "    .dataframe tbody tr th {\n",
       "        vertical-align: top;\n",
       "    }\n",
       "\n",
       "    .dataframe thead th {\n",
       "        text-align: right;\n",
       "    }\n",
       "</style>\n",
       "<table border=\"1\" class=\"dataframe\">\n",
       "  <thead>\n",
       "    <tr style=\"text-align: right;\">\n",
       "      <th></th>\n",
       "      <th>gender</th>\n",
       "      <th>age</th>\n",
       "      <th>hypertension</th>\n",
       "      <th>heart_disease</th>\n",
       "      <th>ever_married</th>\n",
       "      <th>work_type</th>\n",
       "      <th>Residence_type</th>\n",
       "      <th>avg_glucose_level</th>\n",
       "      <th>bmi</th>\n",
       "      <th>smoking_status</th>\n",
       "      <th>stroke</th>\n",
       "    </tr>\n",
       "  </thead>\n",
       "  <tbody>\n",
       "    <tr>\n",
       "      <th>0</th>\n",
       "      <td>Male</td>\n",
       "      <td>67.0</td>\n",
       "      <td>0</td>\n",
       "      <td>1</td>\n",
       "      <td>Yes</td>\n",
       "      <td>Private</td>\n",
       "      <td>Urban</td>\n",
       "      <td>228.69</td>\n",
       "      <td>36.6</td>\n",
       "      <td>formerly smoked</td>\n",
       "      <td>1</td>\n",
       "    </tr>\n",
       "    <tr>\n",
       "      <th>1</th>\n",
       "      <td>Female</td>\n",
       "      <td>61.0</td>\n",
       "      <td>0</td>\n",
       "      <td>0</td>\n",
       "      <td>Yes</td>\n",
       "      <td>Self-employed</td>\n",
       "      <td>Rural</td>\n",
       "      <td>202.21</td>\n",
       "      <td>NaN</td>\n",
       "      <td>never smoked</td>\n",
       "      <td>1</td>\n",
       "    </tr>\n",
       "    <tr>\n",
       "      <th>2</th>\n",
       "      <td>Male</td>\n",
       "      <td>80.0</td>\n",
       "      <td>0</td>\n",
       "      <td>1</td>\n",
       "      <td>Yes</td>\n",
       "      <td>Private</td>\n",
       "      <td>Rural</td>\n",
       "      <td>105.92</td>\n",
       "      <td>32.5</td>\n",
       "      <td>never smoked</td>\n",
       "      <td>1</td>\n",
       "    </tr>\n",
       "    <tr>\n",
       "      <th>3</th>\n",
       "      <td>Female</td>\n",
       "      <td>49.0</td>\n",
       "      <td>0</td>\n",
       "      <td>0</td>\n",
       "      <td>Yes</td>\n",
       "      <td>Private</td>\n",
       "      <td>Urban</td>\n",
       "      <td>171.23</td>\n",
       "      <td>34.4</td>\n",
       "      <td>smokes</td>\n",
       "      <td>1</td>\n",
       "    </tr>\n",
       "    <tr>\n",
       "      <th>4</th>\n",
       "      <td>Female</td>\n",
       "      <td>79.0</td>\n",
       "      <td>1</td>\n",
       "      <td>0</td>\n",
       "      <td>Yes</td>\n",
       "      <td>Self-employed</td>\n",
       "      <td>Rural</td>\n",
       "      <td>174.12</td>\n",
       "      <td>24.0</td>\n",
       "      <td>never smoked</td>\n",
       "      <td>1</td>\n",
       "    </tr>\n",
       "    <tr>\n",
       "      <th>...</th>\n",
       "      <td>...</td>\n",
       "      <td>...</td>\n",
       "      <td>...</td>\n",
       "      <td>...</td>\n",
       "      <td>...</td>\n",
       "      <td>...</td>\n",
       "      <td>...</td>\n",
       "      <td>...</td>\n",
       "      <td>...</td>\n",
       "      <td>...</td>\n",
       "      <td>...</td>\n",
       "    </tr>\n",
       "    <tr>\n",
       "      <th>695</th>\n",
       "      <td>Female</td>\n",
       "      <td>29.0</td>\n",
       "      <td>0</td>\n",
       "      <td>0</td>\n",
       "      <td>Yes</td>\n",
       "      <td>Private</td>\n",
       "      <td>Rural</td>\n",
       "      <td>91.45</td>\n",
       "      <td>24.2</td>\n",
       "      <td>never smoked</td>\n",
       "      <td>0</td>\n",
       "    </tr>\n",
       "    <tr>\n",
       "      <th>696</th>\n",
       "      <td>Female</td>\n",
       "      <td>12.0</td>\n",
       "      <td>0</td>\n",
       "      <td>0</td>\n",
       "      <td>No</td>\n",
       "      <td>children</td>\n",
       "      <td>Rural</td>\n",
       "      <td>90.58</td>\n",
       "      <td>19.2</td>\n",
       "      <td>Unknown</td>\n",
       "      <td>0</td>\n",
       "    </tr>\n",
       "    <tr>\n",
       "      <th>697</th>\n",
       "      <td>Female</td>\n",
       "      <td>37.0</td>\n",
       "      <td>0</td>\n",
       "      <td>0</td>\n",
       "      <td>Yes</td>\n",
       "      <td>Private</td>\n",
       "      <td>Urban</td>\n",
       "      <td>91.45</td>\n",
       "      <td>25.8</td>\n",
       "      <td>Unknown</td>\n",
       "      <td>0</td>\n",
       "    </tr>\n",
       "    <tr>\n",
       "      <th>698</th>\n",
       "      <td>Female</td>\n",
       "      <td>30.0</td>\n",
       "      <td>0</td>\n",
       "      <td>0</td>\n",
       "      <td>Yes</td>\n",
       "      <td>Private</td>\n",
       "      <td>Rural</td>\n",
       "      <td>89.63</td>\n",
       "      <td>23.2</td>\n",
       "      <td>smokes</td>\n",
       "      <td>0</td>\n",
       "    </tr>\n",
       "    <tr>\n",
       "      <th>699</th>\n",
       "      <td>Female</td>\n",
       "      <td>59.0</td>\n",
       "      <td>0</td>\n",
       "      <td>0</td>\n",
       "      <td>Yes</td>\n",
       "      <td>Govt_job</td>\n",
       "      <td>Rural</td>\n",
       "      <td>86.39</td>\n",
       "      <td>30.2</td>\n",
       "      <td>never smoked</td>\n",
       "      <td>0</td>\n",
       "    </tr>\n",
       "  </tbody>\n",
       "</table>\n",
       "<p>700 rows × 11 columns</p>\n",
       "</div>"
      ],
      "text/plain": [
       "     gender   age  hypertension  heart_disease ever_married      work_type  \\\n",
       "0      Male  67.0             0              1          Yes        Private   \n",
       "1    Female  61.0             0              0          Yes  Self-employed   \n",
       "2      Male  80.0             0              1          Yes        Private   \n",
       "3    Female  49.0             0              0          Yes        Private   \n",
       "4    Female  79.0             1              0          Yes  Self-employed   \n",
       "..      ...   ...           ...            ...          ...            ...   \n",
       "695  Female  29.0             0              0          Yes        Private   \n",
       "696  Female  12.0             0              0           No       children   \n",
       "697  Female  37.0             0              0          Yes        Private   \n",
       "698  Female  30.0             0              0          Yes        Private   \n",
       "699  Female  59.0             0              0          Yes       Govt_job   \n",
       "\n",
       "    Residence_type  avg_glucose_level   bmi   smoking_status  stroke  \n",
       "0            Urban             228.69  36.6  formerly smoked       1  \n",
       "1            Rural             202.21   NaN     never smoked       1  \n",
       "2            Rural             105.92  32.5     never smoked       1  \n",
       "3            Urban             171.23  34.4           smokes       1  \n",
       "4            Rural             174.12  24.0     never smoked       1  \n",
       "..             ...                ...   ...              ...     ...  \n",
       "695          Rural              91.45  24.2     never smoked       0  \n",
       "696          Rural              90.58  19.2          Unknown       0  \n",
       "697          Urban              91.45  25.8          Unknown       0  \n",
       "698          Rural              89.63  23.2           smokes       0  \n",
       "699          Rural              86.39  30.2     never smoked       0  \n",
       "\n",
       "[700 rows x 11 columns]"
      ]
     },
     "execution_count": 2,
     "metadata": {},
     "output_type": "execute_result"
    }
   ],
   "source": [
    "#----------------------------------------------------------\n",
    "# Data URL\n",
    "#----------------------------------------------------------\n",
    "url = (\"https://raw.githubusercontent.com/jorgeasmz/IA-Report/main/stroke.csv\")\n",
    "\n",
    "data = pd.read_csv(url, sep=\",\")\n",
    "\n",
    "data"
   ]
  },
  {
   "cell_type": "code",
   "execution_count": 3,
   "id": "03ddbe1a-3110-4cc5-979b-031a0f62a8fc",
   "metadata": {},
   "outputs": [
    {
     "name": "stdout",
     "output_type": "stream",
     "text": [
      "<class 'pandas.core.frame.DataFrame'>\n",
      "RangeIndex: 700 entries, 0 to 699\n",
      "Data columns (total 11 columns):\n",
      " #   Column             Non-Null Count  Dtype  \n",
      "---  ------             --------------  -----  \n",
      " 0   gender             700 non-null    object \n",
      " 1   age                700 non-null    float64\n",
      " 2   hypertension       700 non-null    int64  \n",
      " 3   heart_disease      700 non-null    int64  \n",
      " 4   ever_married       700 non-null    object \n",
      " 5   work_type          700 non-null    object \n",
      " 6   Residence_type     700 non-null    object \n",
      " 7   avg_glucose_level  700 non-null    float64\n",
      " 8   bmi                651 non-null    float64\n",
      " 9   smoking_status     700 non-null    object \n",
      " 10  stroke             700 non-null    int64  \n",
      "dtypes: float64(3), int64(3), object(5)\n",
      "memory usage: 60.3+ KB\n"
     ]
    }
   ],
   "source": [
    "#----------------------------------------------------------\n",
    "# Data information\n",
    "#----------------------------------------------------------\n",
    "data.info()"
   ]
  },
  {
   "cell_type": "code",
   "execution_count": 4,
   "id": "e1c6f7a0-23ed-46b8-b2ad-95e49759688d",
   "metadata": {},
   "outputs": [
    {
     "data": {
      "text/html": [
       "<div>\n",
       "<style scoped>\n",
       "    .dataframe tbody tr th:only-of-type {\n",
       "        vertical-align: middle;\n",
       "    }\n",
       "\n",
       "    .dataframe tbody tr th {\n",
       "        vertical-align: top;\n",
       "    }\n",
       "\n",
       "    .dataframe thead th {\n",
       "        text-align: right;\n",
       "    }\n",
       "</style>\n",
       "<table border=\"1\" class=\"dataframe\">\n",
       "  <thead>\n",
       "    <tr style=\"text-align: right;\">\n",
       "      <th></th>\n",
       "      <th>gender</th>\n",
       "      <th>ever_married</th>\n",
       "      <th>work_type</th>\n",
       "      <th>Residence_type</th>\n",
       "      <th>smoking_status</th>\n",
       "    </tr>\n",
       "  </thead>\n",
       "  <tbody>\n",
       "    <tr>\n",
       "      <th>count</th>\n",
       "      <td>700</td>\n",
       "      <td>700</td>\n",
       "      <td>700</td>\n",
       "      <td>700</td>\n",
       "      <td>700</td>\n",
       "    </tr>\n",
       "    <tr>\n",
       "      <th>unique</th>\n",
       "      <td>2</td>\n",
       "      <td>2</td>\n",
       "      <td>5</td>\n",
       "      <td>2</td>\n",
       "      <td>4</td>\n",
       "    </tr>\n",
       "    <tr>\n",
       "      <th>top</th>\n",
       "      <td>Female</td>\n",
       "      <td>Yes</td>\n",
       "      <td>Private</td>\n",
       "      <td>Urban</td>\n",
       "      <td>never smoked</td>\n",
       "    </tr>\n",
       "    <tr>\n",
       "      <th>freq</th>\n",
       "      <td>414</td>\n",
       "      <td>522</td>\n",
       "      <td>410</td>\n",
       "      <td>356</td>\n",
       "      <td>265</td>\n",
       "    </tr>\n",
       "  </tbody>\n",
       "</table>\n",
       "</div>"
      ],
      "text/plain": [
       "        gender ever_married work_type Residence_type smoking_status\n",
       "count      700          700       700            700            700\n",
       "unique       2            2         5              2              4\n",
       "top     Female          Yes   Private          Urban   never smoked\n",
       "freq       414          522       410            356            265"
      ]
     },
     "execution_count": 4,
     "metadata": {},
     "output_type": "execute_result"
    }
   ],
   "source": [
    "#----------------------------------------------------------\n",
    "# Categoric variables of type 'object'\n",
    "#----------------------------------------------------------\n",
    "data.select_dtypes(include=['object']).describe()"
   ]
  },
  {
   "cell_type": "code",
   "execution_count": 5,
   "id": "d66d4909-a471-4040-97e9-2a69b809a3cf",
   "metadata": {},
   "outputs": [
    {
     "data": {
      "text/html": [
       "<div>\n",
       "<style scoped>\n",
       "    .dataframe tbody tr th:only-of-type {\n",
       "        vertical-align: middle;\n",
       "    }\n",
       "\n",
       "    .dataframe tbody tr th {\n",
       "        vertical-align: top;\n",
       "    }\n",
       "\n",
       "    .dataframe thead th {\n",
       "        text-align: right;\n",
       "    }\n",
       "</style>\n",
       "<table border=\"1\" class=\"dataframe\">\n",
       "  <thead>\n",
       "    <tr style=\"text-align: right;\">\n",
       "      <th></th>\n",
       "      <th>hypertension</th>\n",
       "      <th>heart_disease</th>\n",
       "      <th>stroke</th>\n",
       "    </tr>\n",
       "  </thead>\n",
       "  <tbody>\n",
       "    <tr>\n",
       "      <th>count</th>\n",
       "      <td>700.000000</td>\n",
       "      <td>700.000000</td>\n",
       "      <td>700.000000</td>\n",
       "    </tr>\n",
       "    <tr>\n",
       "      <th>mean</th>\n",
       "      <td>0.151429</td>\n",
       "      <td>0.095714</td>\n",
       "      <td>0.355714</td>\n",
       "    </tr>\n",
       "    <tr>\n",
       "      <th>std</th>\n",
       "      <td>0.358722</td>\n",
       "      <td>0.294409</td>\n",
       "      <td>0.479072</td>\n",
       "    </tr>\n",
       "    <tr>\n",
       "      <th>min</th>\n",
       "      <td>0.000000</td>\n",
       "      <td>0.000000</td>\n",
       "      <td>0.000000</td>\n",
       "    </tr>\n",
       "    <tr>\n",
       "      <th>25%</th>\n",
       "      <td>0.000000</td>\n",
       "      <td>0.000000</td>\n",
       "      <td>0.000000</td>\n",
       "    </tr>\n",
       "    <tr>\n",
       "      <th>50%</th>\n",
       "      <td>0.000000</td>\n",
       "      <td>0.000000</td>\n",
       "      <td>0.000000</td>\n",
       "    </tr>\n",
       "    <tr>\n",
       "      <th>75%</th>\n",
       "      <td>0.000000</td>\n",
       "      <td>0.000000</td>\n",
       "      <td>1.000000</td>\n",
       "    </tr>\n",
       "    <tr>\n",
       "      <th>max</th>\n",
       "      <td>1.000000</td>\n",
       "      <td>1.000000</td>\n",
       "      <td>1.000000</td>\n",
       "    </tr>\n",
       "  </tbody>\n",
       "</table>\n",
       "</div>"
      ],
      "text/plain": [
       "       hypertension  heart_disease      stroke\n",
       "count    700.000000     700.000000  700.000000\n",
       "mean       0.151429       0.095714    0.355714\n",
       "std        0.358722       0.294409    0.479072\n",
       "min        0.000000       0.000000    0.000000\n",
       "25%        0.000000       0.000000    0.000000\n",
       "50%        0.000000       0.000000    0.000000\n",
       "75%        0.000000       0.000000    1.000000\n",
       "max        1.000000       1.000000    1.000000"
      ]
     },
     "execution_count": 5,
     "metadata": {},
     "output_type": "execute_result"
    }
   ],
   "source": [
    "#----------------------------------------------------------\n",
    "# Quantitative variables of type 'int'\n",
    "#----------------------------------------------------------\n",
    "data.select_dtypes(include=['int64']).describe()"
   ]
  },
  {
   "cell_type": "code",
   "execution_count": 6,
   "id": "8a7d5d19-55c3-430b-8768-709e67cdeb29",
   "metadata": {},
   "outputs": [
    {
     "data": {
      "text/html": [
       "<div>\n",
       "<style scoped>\n",
       "    .dataframe tbody tr th:only-of-type {\n",
       "        vertical-align: middle;\n",
       "    }\n",
       "\n",
       "    .dataframe tbody tr th {\n",
       "        vertical-align: top;\n",
       "    }\n",
       "\n",
       "    .dataframe thead th {\n",
       "        text-align: right;\n",
       "    }\n",
       "</style>\n",
       "<table border=\"1\" class=\"dataframe\">\n",
       "  <thead>\n",
       "    <tr style=\"text-align: right;\">\n",
       "      <th></th>\n",
       "      <th>age</th>\n",
       "      <th>avg_glucose_level</th>\n",
       "      <th>bmi</th>\n",
       "    </tr>\n",
       "  </thead>\n",
       "  <tbody>\n",
       "    <tr>\n",
       "      <th>count</th>\n",
       "      <td>700.000000</td>\n",
       "      <td>700.000000</td>\n",
       "      <td>651.000000</td>\n",
       "    </tr>\n",
       "    <tr>\n",
       "      <th>mean</th>\n",
       "      <td>51.485200</td>\n",
       "      <td>116.647786</td>\n",
       "      <td>29.857143</td>\n",
       "    </tr>\n",
       "    <tr>\n",
       "      <th>std</th>\n",
       "      <td>22.401775</td>\n",
       "      <td>53.171734</td>\n",
       "      <td>8.008309</td>\n",
       "    </tr>\n",
       "    <tr>\n",
       "      <th>min</th>\n",
       "      <td>0.320000</td>\n",
       "      <td>55.250000</td>\n",
       "      <td>12.000000</td>\n",
       "    </tr>\n",
       "    <tr>\n",
       "      <th>25%</th>\n",
       "      <td>36.000000</td>\n",
       "      <td>78.787500</td>\n",
       "      <td>24.450000</td>\n",
       "    </tr>\n",
       "    <tr>\n",
       "      <th>50%</th>\n",
       "      <td>55.000000</td>\n",
       "      <td>96.925000</td>\n",
       "      <td>28.500000</td>\n",
       "    </tr>\n",
       "    <tr>\n",
       "      <th>75%</th>\n",
       "      <td>71.000000</td>\n",
       "      <td>137.795000</td>\n",
       "      <td>34.300000</td>\n",
       "    </tr>\n",
       "    <tr>\n",
       "      <th>max</th>\n",
       "      <td>82.000000</td>\n",
       "      <td>271.740000</td>\n",
       "      <td>71.900000</td>\n",
       "    </tr>\n",
       "  </tbody>\n",
       "</table>\n",
       "</div>"
      ],
      "text/plain": [
       "              age  avg_glucose_level         bmi\n",
       "count  700.000000         700.000000  651.000000\n",
       "mean    51.485200         116.647786   29.857143\n",
       "std     22.401775          53.171734    8.008309\n",
       "min      0.320000          55.250000   12.000000\n",
       "25%     36.000000          78.787500   24.450000\n",
       "50%     55.000000          96.925000   28.500000\n",
       "75%     71.000000         137.795000   34.300000\n",
       "max     82.000000         271.740000   71.900000"
      ]
     },
     "execution_count": 6,
     "metadata": {},
     "output_type": "execute_result"
    }
   ],
   "source": [
    "#----------------------------------------------------------\n",
    "# Quantitative variables of type 'float'\n",
    "#----------------------------------------------------------\n",
    "data.select_dtypes(include=['float64']).describe()"
   ]
  },
  {
   "cell_type": "markdown",
   "id": "26ffb3ec-a4a2-4d2a-aaf2-345f6acbecf8",
   "metadata": {},
   "source": [
    "## 2. Seleccionar aleatoriamente el 80% del conjunto de datos para entrenar y el 20% restante para las pruebas"
   ]
  },
  {
   "cell_type": "code",
   "execution_count": 7,
   "id": "31d0fc6e-02a2-4fc1-834f-3ae2a983e11a",
   "metadata": {},
   "outputs": [
    {
     "name": "stdout",
     "output_type": "stream",
     "text": [
      "700 560 140\n"
     ]
    }
   ],
   "source": [
    "from sklearn.model_selection import train_test_split \n",
    "\n",
    "N = len(data) # Number of data available\n",
    "cTrain = int(N * 0.8) # 80% for training \n",
    "cTest = N - cTrain # 20% for testing\n",
    "print(N, cTrain, cTest) # Number of data, Training data, Testing data\n",
    "train_data, test_data = train_test_split(data, train_size=cTrain, test_size=cTest)"
   ]
  },
  {
   "cell_type": "code",
   "execution_count": 8,
   "id": "5f7eca22-496d-46e5-8159-de56eb57be69",
   "metadata": {},
   "outputs": [
    {
     "data": {
      "text/plain": [
       "(560, 11)"
      ]
     },
     "execution_count": 8,
     "metadata": {},
     "output_type": "execute_result"
    }
   ],
   "source": [
    "#----------------------------------------------------------\n",
    "# Training data dimensions\n",
    "#----------------------------------------------------------\n",
    "train_data.shape"
   ]
  },
  {
   "cell_type": "code",
   "execution_count": 9,
   "id": "fa497958-5b18-4cc2-af17-53e390225e44",
   "metadata": {},
   "outputs": [
    {
     "data": {
      "text/html": [
       "<div>\n",
       "<style scoped>\n",
       "    .dataframe tbody tr th:only-of-type {\n",
       "        vertical-align: middle;\n",
       "    }\n",
       "\n",
       "    .dataframe tbody tr th {\n",
       "        vertical-align: top;\n",
       "    }\n",
       "\n",
       "    .dataframe thead th {\n",
       "        text-align: right;\n",
       "    }\n",
       "</style>\n",
       "<table border=\"1\" class=\"dataframe\">\n",
       "  <thead>\n",
       "    <tr style=\"text-align: right;\">\n",
       "      <th></th>\n",
       "      <th>gender</th>\n",
       "      <th>age</th>\n",
       "      <th>hypertension</th>\n",
       "      <th>heart_disease</th>\n",
       "      <th>ever_married</th>\n",
       "      <th>work_type</th>\n",
       "      <th>Residence_type</th>\n",
       "      <th>avg_glucose_level</th>\n",
       "      <th>bmi</th>\n",
       "      <th>smoking_status</th>\n",
       "      <th>stroke</th>\n",
       "    </tr>\n",
       "  </thead>\n",
       "  <tbody>\n",
       "    <tr>\n",
       "      <th>361</th>\n",
       "      <td>Female</td>\n",
       "      <td>39.0</td>\n",
       "      <td>0</td>\n",
       "      <td>0</td>\n",
       "      <td>Yes</td>\n",
       "      <td>Self-employed</td>\n",
       "      <td>Rural</td>\n",
       "      <td>89.86</td>\n",
       "      <td>24.4</td>\n",
       "      <td>never smoked</td>\n",
       "      <td>0</td>\n",
       "    </tr>\n",
       "    <tr>\n",
       "      <th>524</th>\n",
       "      <td>Female</td>\n",
       "      <td>38.0</td>\n",
       "      <td>0</td>\n",
       "      <td>0</td>\n",
       "      <td>Yes</td>\n",
       "      <td>Govt_job</td>\n",
       "      <td>Urban</td>\n",
       "      <td>70.92</td>\n",
       "      <td>41.6</td>\n",
       "      <td>never smoked</td>\n",
       "      <td>0</td>\n",
       "    </tr>\n",
       "    <tr>\n",
       "      <th>444</th>\n",
       "      <td>Female</td>\n",
       "      <td>63.0</td>\n",
       "      <td>1</td>\n",
       "      <td>0</td>\n",
       "      <td>Yes</td>\n",
       "      <td>Self-employed</td>\n",
       "      <td>Rural</td>\n",
       "      <td>227.10</td>\n",
       "      <td>26.9</td>\n",
       "      <td>Unknown</td>\n",
       "      <td>0</td>\n",
       "    </tr>\n",
       "    <tr>\n",
       "      <th>554</th>\n",
       "      <td>Male</td>\n",
       "      <td>5.0</td>\n",
       "      <td>0</td>\n",
       "      <td>0</td>\n",
       "      <td>No</td>\n",
       "      <td>children</td>\n",
       "      <td>Rural</td>\n",
       "      <td>71.43</td>\n",
       "      <td>19.3</td>\n",
       "      <td>Unknown</td>\n",
       "      <td>0</td>\n",
       "    </tr>\n",
       "    <tr>\n",
       "      <th>187</th>\n",
       "      <td>Female</td>\n",
       "      <td>82.0</td>\n",
       "      <td>1</td>\n",
       "      <td>1</td>\n",
       "      <td>Yes</td>\n",
       "      <td>Govt_job</td>\n",
       "      <td>Urban</td>\n",
       "      <td>215.94</td>\n",
       "      <td>27.9</td>\n",
       "      <td>formerly smoked</td>\n",
       "      <td>1</td>\n",
       "    </tr>\n",
       "  </tbody>\n",
       "</table>\n",
       "</div>"
      ],
      "text/plain": [
       "     gender   age  hypertension  heart_disease ever_married      work_type  \\\n",
       "361  Female  39.0             0              0          Yes  Self-employed   \n",
       "524  Female  38.0             0              0          Yes       Govt_job   \n",
       "444  Female  63.0             1              0          Yes  Self-employed   \n",
       "554    Male   5.0             0              0           No       children   \n",
       "187  Female  82.0             1              1          Yes       Govt_job   \n",
       "\n",
       "    Residence_type  avg_glucose_level   bmi   smoking_status  stroke  \n",
       "361          Rural              89.86  24.4     never smoked       0  \n",
       "524          Urban              70.92  41.6     never smoked       0  \n",
       "444          Rural             227.10  26.9          Unknown       0  \n",
       "554          Rural              71.43  19.3          Unknown       0  \n",
       "187          Urban             215.94  27.9  formerly smoked       1  "
      ]
     },
     "execution_count": 9,
     "metadata": {},
     "output_type": "execute_result"
    }
   ],
   "source": [
    "#----------------------------------------------------------\n",
    "# First 5 rows of the training data set\n",
    "#----------------------------------------------------------\n",
    "train_data.head()"
   ]
  },
  {
   "cell_type": "code",
   "execution_count": 10,
   "id": "596ac9da-fbc3-4a6b-9e56-b441405e4f54",
   "metadata": {},
   "outputs": [
    {
     "data": {
      "text/html": [
       "<div>\n",
       "<style scoped>\n",
       "    .dataframe tbody tr th:only-of-type {\n",
       "        vertical-align: middle;\n",
       "    }\n",
       "\n",
       "    .dataframe tbody tr th {\n",
       "        vertical-align: top;\n",
       "    }\n",
       "\n",
       "    .dataframe thead th {\n",
       "        text-align: right;\n",
       "    }\n",
       "</style>\n",
       "<table border=\"1\" class=\"dataframe\">\n",
       "  <thead>\n",
       "    <tr style=\"text-align: right;\">\n",
       "      <th></th>\n",
       "      <th>age</th>\n",
       "      <th>hypertension</th>\n",
       "      <th>heart_disease</th>\n",
       "      <th>avg_glucose_level</th>\n",
       "      <th>bmi</th>\n",
       "      <th>stroke</th>\n",
       "    </tr>\n",
       "  </thead>\n",
       "  <tbody>\n",
       "    <tr>\n",
       "      <th>count</th>\n",
       "      <td>140.000000</td>\n",
       "      <td>140.000000</td>\n",
       "      <td>140.000000</td>\n",
       "      <td>140.000000</td>\n",
       "      <td>133.000000</td>\n",
       "      <td>140.000000</td>\n",
       "    </tr>\n",
       "    <tr>\n",
       "      <th>mean</th>\n",
       "      <td>51.157714</td>\n",
       "      <td>0.171429</td>\n",
       "      <td>0.078571</td>\n",
       "      <td>121.519214</td>\n",
       "      <td>31.407519</td>\n",
       "      <td>0.350000</td>\n",
       "    </tr>\n",
       "    <tr>\n",
       "      <th>std</th>\n",
       "      <td>21.929666</td>\n",
       "      <td>0.378236</td>\n",
       "      <td>0.270035</td>\n",
       "      <td>56.619566</td>\n",
       "      <td>9.079002</td>\n",
       "      <td>0.478682</td>\n",
       "    </tr>\n",
       "    <tr>\n",
       "      <th>min</th>\n",
       "      <td>1.080000</td>\n",
       "      <td>0.000000</td>\n",
       "      <td>0.000000</td>\n",
       "      <td>55.250000</td>\n",
       "      <td>16.400000</td>\n",
       "      <td>0.000000</td>\n",
       "    </tr>\n",
       "    <tr>\n",
       "      <th>25%</th>\n",
       "      <td>36.250000</td>\n",
       "      <td>0.000000</td>\n",
       "      <td>0.000000</td>\n",
       "      <td>82.182500</td>\n",
       "      <td>25.900000</td>\n",
       "      <td>0.000000</td>\n",
       "    </tr>\n",
       "    <tr>\n",
       "      <th>50%</th>\n",
       "      <td>55.500000</td>\n",
       "      <td>0.000000</td>\n",
       "      <td>0.000000</td>\n",
       "      <td>96.790000</td>\n",
       "      <td>29.800000</td>\n",
       "      <td>0.000000</td>\n",
       "    </tr>\n",
       "    <tr>\n",
       "      <th>75%</th>\n",
       "      <td>70.000000</td>\n",
       "      <td>0.000000</td>\n",
       "      <td>0.000000</td>\n",
       "      <td>149.472500</td>\n",
       "      <td>35.800000</td>\n",
       "      <td>1.000000</td>\n",
       "    </tr>\n",
       "    <tr>\n",
       "      <th>max</th>\n",
       "      <td>82.000000</td>\n",
       "      <td>1.000000</td>\n",
       "      <td>1.000000</td>\n",
       "      <td>263.320000</td>\n",
       "      <td>71.900000</td>\n",
       "      <td>1.000000</td>\n",
       "    </tr>\n",
       "  </tbody>\n",
       "</table>\n",
       "</div>"
      ],
      "text/plain": [
       "              age  hypertension  heart_disease  avg_glucose_level         bmi  \\\n",
       "count  140.000000    140.000000     140.000000         140.000000  133.000000   \n",
       "mean    51.157714      0.171429       0.078571         121.519214   31.407519   \n",
       "std     21.929666      0.378236       0.270035          56.619566    9.079002   \n",
       "min      1.080000      0.000000       0.000000          55.250000   16.400000   \n",
       "25%     36.250000      0.000000       0.000000          82.182500   25.900000   \n",
       "50%     55.500000      0.000000       0.000000          96.790000   29.800000   \n",
       "75%     70.000000      0.000000       0.000000         149.472500   35.800000   \n",
       "max     82.000000      1.000000       1.000000         263.320000   71.900000   \n",
       "\n",
       "           stroke  \n",
       "count  140.000000  \n",
       "mean     0.350000  \n",
       "std      0.478682  \n",
       "min      0.000000  \n",
       "25%      0.000000  \n",
       "50%      0.000000  \n",
       "75%      1.000000  \n",
       "max      1.000000  "
      ]
     },
     "execution_count": 10,
     "metadata": {},
     "output_type": "execute_result"
    }
   ],
   "source": [
    "#-----------------------------------------------------------------\n",
    "# Description of the quantitative variables for the training data\n",
    "#----------------------------------------------------------------\n",
    "test_data.describe()"
   ]
  },
  {
   "cell_type": "markdown",
   "id": "db72872f-52f6-4761-93bf-ec257c9917ab",
   "metadata": {},
   "source": [
    "## 3. Utilizar una estrategia para normalizar los datos y llenar los datos faltantes"
   ]
  },
  {
   "cell_type": "markdown",
   "id": "11f1f03a-2204-456d-bb60-85a00214f6a4",
   "metadata": {},
   "source": [
    "### Pipeline para atributos categóricos"
   ]
  },
  {
   "cell_type": "code",
   "execution_count": 11,
   "id": "e2cd4740-3536-45b6-ae5a-04ba1de4669e",
   "metadata": {},
   "outputs": [],
   "source": [
    "from sklearn.preprocessing import OneHotEncoder\n",
    "from sklearn.pipeline import Pipeline\n",
    "from sklearn.impute import SimpleImputer\n",
    "\n",
    "# 5 categoric variables\n",
    "cat_attribs = ['gender', 'ever_married', 'work_type', 'Residence_type', 'smoking_status']\n",
    "\n",
    "cat_pipeline = Pipeline([\n",
    "        (\"imputer\", SimpleImputer(strategy=\"most_frequent\")),\n",
    "        (\"cat_encoder\", OneHotEncoder(sparse=False))\n",
    "    ])"
   ]
  },
  {
   "cell_type": "markdown",
   "id": "7e00dcf9-d1f8-4a19-a8d3-a2aae64d08b9",
   "metadata": {},
   "source": [
    "### Pipeline para atributos cuantitativos"
   ]
  },
  {
   "cell_type": "code",
   "execution_count": 12,
   "id": "0aed4c45-62b2-48d1-8802-85c66bd0240d",
   "metadata": {},
   "outputs": [],
   "source": [
    "from sklearn.pipeline import Pipeline\n",
    "from sklearn.impute import SimpleImputer\n",
    "from sklearn.preprocessing import StandardScaler\n",
    "from sklearn.preprocessing import MinMaxScaler\n",
    "\n",
    "# 5 numeric variables\n",
    "num_attribs = ['hypertension', 'heart_disease', 'age', 'avg_glucose_level', 'bmi']\n",
    "\n",
    "num_pipeline = Pipeline([\n",
    "        (\"imputer\", SimpleImputer(strategy=\"median\")),\n",
    "        (\"scaler\", StandardScaler()) \n",
    "    ])"
   ]
  },
  {
   "cell_type": "markdown",
   "id": "0b1463f7-9333-4750-a539-ff271cdd2ba8",
   "metadata": {},
   "source": [
    "### Pipeline completo"
   ]
  },
  {
   "cell_type": "code",
   "execution_count": 13,
   "id": "b3aa203a-ed15-43d9-9eab-c8ed19d1fd42",
   "metadata": {},
   "outputs": [],
   "source": [
    "from sklearn.compose import ColumnTransformer\n",
    "\n",
    "full_pipeline = ColumnTransformer([\n",
    "    (\"num\", num_pipeline, num_attribs),\n",
    "    (\"cat\", cat_pipeline, cat_attribs), \n",
    "])"
   ]
  },
  {
   "cell_type": "markdown",
   "id": "446ad511-c608-4b88-b3ac-b5e18848e8aa",
   "metadata": {},
   "source": [
    "### Conjunto de entrenamiento"
   ]
  },
  {
   "cell_type": "code",
   "execution_count": 14,
   "id": "4ce4bfff-cf87-48df-8712-cc04d46a894c",
   "metadata": {},
   "outputs": [],
   "source": [
    "#----------------------------------------------------------\n",
    "# Training data transformation\n",
    "# Independent variables\n",
    "#----------------------------------------------------------\n",
    "X_train = full_pipeline.fit_transform(train_data)"
   ]
  },
  {
   "cell_type": "code",
   "execution_count": 15,
   "id": "23856a55-e944-4aeb-9afc-ef2b4e595e79",
   "metadata": {},
   "outputs": [
    {
     "data": {
      "text/plain": [
       "(560, 20)"
      ]
     },
     "execution_count": 15,
     "metadata": {},
     "output_type": "execute_result"
    }
   ],
   "source": [
    "#----------------------------------------------------------\n",
    "# Nodes for numeric variables: 5 -> 'hypertension', \n",
    "#                                     'heart_disease',\n",
    "#                                     'age',\n",
    "#                                     'avg_glucose_level',\n",
    "#                                     'bmi'\n",
    "#\n",
    "# Nodes for categoric variables: 15 -> 'gender': 2 -> 'Male',\n",
    "#                                                       'Female'\n",
    "#                                        'ever_married': 2 -> 'No',\n",
    "#                                                             'Yes'\n",
    "#                                        'work_type': 5 -> 'children',\n",
    "#                                                          'Govt_job',\n",
    "#                                                          'Never_worked',\n",
    "#                                                          'Private',\n",
    "#                                                          'Self-employed'\n",
    "#                                        'Residence_type': 2 -> 'Rural',\n",
    "#                                                               'Urban'\n",
    "#                                        'smoking_status': 4 -> 'formerly smoked',\n",
    "#                                                               'never smoked',\n",
    "#                                                               'smokes',\n",
    "#                                                               'Unknown'\n",
    "#----------------------------------------------------------\n",
    "X_train.shape"
   ]
  },
  {
   "cell_type": "code",
   "execution_count": 16,
   "id": "3897f070-58a0-488a-a2a4-973a597322b6",
   "metadata": {},
   "outputs": [
    {
     "data": {
      "text/plain": [
       "array([-0.41418368, -0.33333333, -0.5581227 , -0.48975391, -0.67477278,\n",
       "        1.        ,  0.        ,  0.        ,  1.        ,  0.        ,\n",
       "        0.        ,  0.        ,  1.        ,  0.        ,  1.        ,\n",
       "        0.        ,  0.        ,  0.        ,  1.        ,  0.        ])"
      ]
     },
     "execution_count": 16,
     "metadata": {},
     "output_type": "execute_result"
    }
   ],
   "source": [
    "#----------------------------------------------------------\n",
    "# First row of the transformed train data\n",
    "#----------------------------------------------------------\n",
    "X_train[0, :]"
   ]
  },
  {
   "cell_type": "code",
   "execution_count": 17,
   "id": "0c58dd11-0b48-4a74-b959-68242ae111d0",
   "metadata": {},
   "outputs": [
    {
     "data": {
      "text/plain": [
       "361    0\n",
       "524    0\n",
       "444    0\n",
       "554    0\n",
       "187    1\n",
       "      ..\n",
       "617    0\n",
       "522    0\n",
       "225    1\n",
       "231    1\n",
       "423    0\n",
       "Name: stroke, Length: 560, dtype: int64"
      ]
     },
     "execution_count": 17,
     "metadata": {},
     "output_type": "execute_result"
    }
   ],
   "source": [
    "#----------------------------------------------------------\n",
    "# Dependent variable: 'stroke' -> 0, 1\n",
    "#----------------------------------------------------------\n",
    "y_train = train_data['stroke']\n",
    "y_train"
   ]
  },
  {
   "cell_type": "markdown",
   "id": "391b14c7-ab45-48f6-937c-71b10ba61b1f",
   "metadata": {},
   "source": [
    "### Conjunto de prueba"
   ]
  },
  {
   "cell_type": "code",
   "execution_count": 18,
   "id": "dda443e9-ed0a-4f0b-8019-c4cfb5629be0",
   "metadata": {},
   "outputs": [],
   "source": [
    "#----------------------------------------------------------\n",
    "# Testing data transformation\n",
    "# Independent variables\n",
    "#----------------------------------------------------------\n",
    "X_test = full_pipeline.fit_transform(test_data)"
   ]
  },
  {
   "cell_type": "code",
   "execution_count": 19,
   "id": "d3505bdf-f479-4b79-8e70-e24a07713f24",
   "metadata": {},
   "outputs": [
    {
     "data": {
      "text/plain": [
       "(140, 20)"
      ]
     },
     "execution_count": 19,
     "metadata": {},
     "output_type": "execute_result"
    }
   ],
   "source": [
    "X_test.shape"
   ]
  },
  {
   "cell_type": "code",
   "execution_count": 20,
   "id": "fe975c6e-1b39-4591-8b71-16a71bd346d7",
   "metadata": {},
   "outputs": [
    {
     "data": {
      "text/plain": [
       "array([[ 2.19848433, -0.29201253,  0.58771521, ...,  0.        ,\n",
       "         1.        ,  0.        ],\n",
       "       [-0.45485883, -0.29201253,  0.03854642, ...,  1.        ,\n",
       "         0.        ,  0.        ],\n",
       "       [-0.45485883, -0.29201253,  0.58771521, ...,  0.        ,\n",
       "         0.        ,  1.        ],\n",
       "       ...,\n",
       "       [ 2.19848433, -0.29201253,  0.9995918 , ...,  0.        ,\n",
       "         1.        ,  0.        ],\n",
       "       [-0.45485883, -0.29201253,  0.22160268, ...,  0.        ,\n",
       "         1.        ,  0.        ],\n",
       "       [-0.45485883, -0.29201253,  0.08431048, ...,  0.        ,\n",
       "         0.        ,  0.        ]])"
      ]
     },
     "execution_count": 20,
     "metadata": {},
     "output_type": "execute_result"
    }
   ],
   "source": [
    "X_test"
   ]
  },
  {
   "cell_type": "code",
   "execution_count": 21,
   "id": "d9d5dd85-3b89-4cdd-9f97-f4bc7614c853",
   "metadata": {},
   "outputs": [
    {
     "data": {
      "text/plain": [
       "array([ 2.19848433, -0.29201253,  0.58771521, -0.58473899, -0.76247728,\n",
       "        1.        ,  0.        ,  0.        ,  1.        ,  0.        ,\n",
       "        0.        ,  1.        ,  0.        ,  0.        ,  1.        ,\n",
       "        0.        ,  0.        ,  0.        ,  1.        ,  0.        ])"
      ]
     },
     "execution_count": 21,
     "metadata": {},
     "output_type": "execute_result"
    }
   ],
   "source": [
    "#----------------------------------------------------------\n",
    "# First row of the transformed test data\n",
    "#----------------------------------------------------------\n",
    "X_test[0, :]"
   ]
  },
  {
   "cell_type": "code",
   "execution_count": 22,
   "id": "dbd12c26-b2bd-40e2-a4fa-e3a4d878ca61",
   "metadata": {},
   "outputs": [
    {
     "data": {
      "text/plain": [
       "565    0\n",
       "333    0\n",
       "412    0\n",
       "559    0\n",
       "351    0\n",
       "      ..\n",
       "294    0\n",
       "446    0\n",
       "130    1\n",
       "592    0\n",
       "490    0\n",
       "Name: stroke, Length: 140, dtype: int64"
      ]
     },
     "execution_count": 22,
     "metadata": {},
     "output_type": "execute_result"
    }
   ],
   "source": [
    "#----------------------------------------------------------\n",
    "# Dependent variable: 'stroke' -> 0, 1\n",
    "#----------------------------------------------------------\n",
    "y_test = test_data['stroke']\n",
    "y_test"
   ]
  },
  {
   "cell_type": "markdown",
   "id": "0a853ccd-c88d-4224-b1a4-1e96b0c926dc",
   "metadata": {},
   "source": [
    "## 4. Configurar los hiperparámetros del árbol de decisión de la siguiente manera: criterion=gini, splitter=best, y random_state=123. Obtener 10 árboles de decisión que resultan de modificar el hiperparámetro max_depth desde 5 hasta 50 con incrementos de 5"
   ]
  },
  {
   "cell_type": "code",
   "execution_count": 58,
   "id": "73958d65-e2c6-43b9-bd8a-01ac3c853fa0",
   "metadata": {},
   "outputs": [
    {
     "name": "stdout",
     "output_type": "stream",
     "text": [
      "----------------------------------\n",
      "Cross-Validation scores for max_depth = 5:\n",
      "[0.74107143 0.78571429 0.66964286 0.77678571 0.72321429]\n",
      "----------------------------------\n",
      "Cross-Validation scores for max_depth = 10:\n",
      "[0.71428571 0.75892857 0.64285714 0.72321429 0.67857143]\n",
      "----------------------------------\n",
      "Cross-Validation scores for max_depth = 15:\n",
      "[0.6875     0.75892857 0.58928571 0.74107143 0.66071429]\n",
      "----------------------------------\n",
      "Cross-Validation scores for max_depth = 20:\n",
      "[0.6875     0.75892857 0.58928571 0.74107143 0.66071429]\n",
      "----------------------------------\n",
      "Cross-Validation scores for max_depth = 25:\n",
      "[0.6875     0.75892857 0.58928571 0.74107143 0.66071429]\n",
      "----------------------------------\n",
      "Cross-Validation scores for max_depth = 30:\n",
      "[0.6875     0.75892857 0.58928571 0.74107143 0.66071429]\n",
      "----------------------------------\n",
      "Cross-Validation scores for max_depth = 35:\n",
      "[0.6875     0.75892857 0.58928571 0.74107143 0.66071429]\n",
      "----------------------------------\n",
      "Cross-Validation scores for max_depth = 40:\n",
      "[0.6875     0.75892857 0.58928571 0.74107143 0.66071429]\n",
      "----------------------------------\n",
      "Cross-Validation scores for max_depth = 45:\n",
      "[0.6875     0.75892857 0.58928571 0.74107143 0.66071429]\n",
      "----------------------------------\n",
      "Cross-Validation scores for max_depth = 50:\n",
      "[0.6875     0.75892857 0.58928571 0.74107143 0.66071429]\n"
     ]
    }
   ],
   "source": [
    "from sklearn import tree\n",
    "from sklearn.tree import DecisionTreeClassifier\n",
    "from sklearn.model_selection import cross_val_score\n",
    "from sklearn.metrics import accuracy_score, confusion_matrix\n",
    "\n",
    "#----------------------------------------------------------\n",
    "# List for the models\n",
    "#----------------------------------------------------------\n",
    "first_set = []\n",
    "\n",
    "#----------------------------------------------------------\n",
    "# List of the maximum depths for the trees\n",
    "#----------------------------------------------------------\n",
    "max_depths = range(5, 55, 5)\n",
    "\n",
    "for max_depth in max_depths:\n",
    "    # Create the decision tree\n",
    "    model = DecisionTreeClassifier(criterion=\"gini\", splitter=\"best\", max_depth=max_depth, random_state=123)\n",
    "    # Train the model\n",
    "    model.fit(X_train, y_train)\n",
    "    # Test the model\n",
    "    y_pred = model.predict(X_test)\n",
    "    # Calculate the accuracy\n",
    "    accuracy = round(accuracy_score(y_test, y_pred), 4)\n",
    "    # Calculate the Cross-Validation scores\n",
    "    scores = cross_val_score(model, X_train, y_train, cv=5, scoring='accuracy')\n",
    "    # Mean of the CV scores\n",
    "    scores_mean = scores.mean()\n",
    "    # Calculate the confusion matrix of the model\n",
    "    confusion = confusion_matrix(y_test, y_pred)\n",
    "    # Save the result\n",
    "    print(\"----------------------------------\")\n",
    "    print(f\"Cross-Validation scores for max_depth = {max_depth}:\")\n",
    "    print(scores)\n",
    "    first_set.append({\"Depth\": max_depth, \n",
    "                      \"Scores (mean)\": scores_mean, \n",
    "                      \"Accuracy\": accuracy, \n",
    "                      \"Confusion matrix\": confusion})"
   ]
  },
  {
   "cell_type": "markdown",
   "id": "cfcbd0a0-4846-4982-9c56-4f2cca508f44",
   "metadata": {},
   "source": [
    "## 5. Incluya en el notebook una tabla con el accuracy para los 10 árboles del punto anterior"
   ]
  },
  {
   "cell_type": "code",
   "execution_count": 59,
   "id": "5f3897f0-40bf-405c-94be-5665cc28e2fb",
   "metadata": {},
   "outputs": [
    {
     "name": "stdout",
     "output_type": "stream",
     "text": [
      "   Depth  Scores (mean)  Accuracy      Confusion matrix\n",
      "0      5          0.739     0.736  [[80, 11], [26, 23]]\n",
      "1     10          0.704     0.714  [[72, 19], [21, 28]]\n",
      "2     15          0.688     0.707  [[73, 18], [23, 26]]\n",
      "3     20          0.688     0.700  [[71, 20], [22, 27]]\n",
      "4     25          0.688     0.700  [[71, 20], [22, 27]]\n",
      "5     30          0.688     0.700  [[71, 20], [22, 27]]\n",
      "6     35          0.688     0.700  [[71, 20], [22, 27]]\n",
      "7     40          0.688     0.700  [[71, 20], [22, 27]]\n",
      "8     45          0.688     0.700  [[71, 20], [22, 27]]\n",
      "9     50          0.688     0.700  [[71, 20], [22, 27]]\n"
     ]
    }
   ],
   "source": [
    "import pandas as pd\n",
    "\n",
    "#----------------------------------------------------------\n",
    "# Table of results\n",
    "#----------------------------------------------------------\n",
    "first_table = pd.DataFrame(first_set)\n",
    "with pd.option_context('display.max_rows', None,\n",
    "                       'display.max_columns', None,\n",
    "                       'display.precision', 3,\n",
    "                       ):\n",
    "    print(first_table)"
   ]
  },
  {
   "cell_type": "markdown",
   "id": "d6a8de33-fd0d-423e-96e5-831a8154a631",
   "metadata": {},
   "source": [
    "### Mejor árbol"
   ]
  },
  {
   "cell_type": "code",
   "execution_count": 60,
   "id": "f39f49fa-8b8b-471e-95e6-f2abe4c6d721",
   "metadata": {},
   "outputs": [
    {
     "name": "stdout",
     "output_type": "stream",
     "text": [
      "* 5\n",
      "* 0.7392857142857143\n",
      "* 0.7357\n"
     ]
    }
   ],
   "source": [
    "#----------------------------------------------------------\n",
    "# Model with the maximun accuracy\n",
    "#----------------------------------------------------------\n",
    "first_max_accuracy_model = max(first_set, key=lambda x: x[\"Accuracy\"])\n",
    "\n",
    "print(\"*\", first_max_accuracy_model[\"Depth\"])\n",
    "print(\"*\", first_max_accuracy_model[\"Scores (mean)\"])\n",
    "print(\"*\", first_max_accuracy_model[\"Accuracy\"])"
   ]
  },
  {
   "cell_type": "markdown",
   "id": "5dbf6d62-f479-4982-88d7-493a75168e51",
   "metadata": {},
   "source": [
    "Para los hiperparámetros criterion='gini', splitter='best' y random_state=123 el árbol con mejor *accuracy* es:\n",
    "\n",
    "**Profundidad:** 5 <br>\n",
    "**Promedio de puntajes:** 0,7393 <br>\n",
    "**Accuracy:** 0.7357"
   ]
  },
  {
   "cell_type": "markdown",
   "id": "72dc09e5-9c7d-44b4-97ca-716e62642418",
   "metadata": {},
   "source": [
    "### Matriz de confusión"
   ]
  },
  {
   "cell_type": "code",
   "execution_count": 61,
   "id": "f0bd45af-4b02-4009-8e3b-dfed5eab92c4",
   "metadata": {},
   "outputs": [
    {
     "data": {
      "image/png": "[encoded data removed]",
      "text/plain": [
       "<Figure size 640x480 with 2 Axes>"
      ]
     },
     "metadata": {},
     "output_type": "display_data"
    }
   ],
   "source": [
    "import matplotlib.pyplot as plt\n",
    "import seaborn as sns\n",
    "\n",
    "ax = plt.subplot()\n",
    "sns.heatmap(first_max_accuracy_model['Confusion matrix'], annot=True, ax = ax, fmt='d')\n",
    "\n",
    "ax.set_xlabel('Predicted labels')\n",
    "ax.set_ylabel('Actual labels') \n",
    "ax.set_title('Confusion Matrix - Stroke') \n",
    "ax.xaxis.set_ticklabels(['Negative = 0', 'Positive = 1'])\n",
    "ax.yaxis.set_ticklabels(['Negative = 0', 'Positive = 1']);\n",
    "plt.show();"
   ]
  },
  {
   "cell_type": "markdown",
   "id": "76da283c-56b8-42ad-a4f0-d2a2ccf7dff1",
   "metadata": {},
   "source": [
    "## 6. Repita el mismo procedimiento del punto 4 usando como hiperparámetros criterion=entropy, splitter=best, random_state=123, y variando el hiperparámetro max_depth desde 5 hasta 50 con incrementos de 5"
   ]
  },
  {
   "cell_type": "code",
   "execution_count": 64,
   "id": "282a5d87-24bf-4c99-a055-c4dd90ac8adb",
   "metadata": {},
   "outputs": [
    {
     "name": "stdout",
     "output_type": "stream",
     "text": [
      "----------------------------------\n",
      "Cross-Validation scores for max_depth = 5:\n",
      "[0.75       0.79464286 0.67857143 0.75       0.78571429]\n",
      "----------------------------------\n",
      "Cross-Validation scores for max_depth = 10:\n",
      "[0.63392857 0.77678571 0.66964286 0.67857143 0.69642857]\n",
      "----------------------------------\n",
      "Cross-Validation scores for max_depth = 15:\n",
      "[0.66964286 0.78571429 0.625      0.65178571 0.67857143]\n",
      "----------------------------------\n",
      "Cross-Validation scores for max_depth = 20:\n",
      "[0.625      0.77678571 0.59821429 0.65178571 0.69642857]\n",
      "----------------------------------\n",
      "Cross-Validation scores for max_depth = 25:\n",
      "[0.66964286 0.77678571 0.59821429 0.65178571 0.69642857]\n",
      "----------------------------------\n",
      "Cross-Validation scores for max_depth = 30:\n",
      "[0.66964286 0.77678571 0.59821429 0.65178571 0.69642857]\n",
      "----------------------------------\n",
      "Cross-Validation scores for max_depth = 35:\n",
      "[0.66964286 0.77678571 0.59821429 0.65178571 0.69642857]\n",
      "----------------------------------\n",
      "Cross-Validation scores for max_depth = 40:\n",
      "[0.66964286 0.77678571 0.59821429 0.65178571 0.69642857]\n",
      "----------------------------------\n",
      "Cross-Validation scores for max_depth = 45:\n",
      "[0.66964286 0.77678571 0.59821429 0.65178571 0.69642857]\n",
      "----------------------------------\n",
      "Cross-Validation scores for max_depth = 50:\n",
      "[0.66964286 0.77678571 0.59821429 0.65178571 0.69642857]\n"
     ]
    }
   ],
   "source": [
    "from sklearn import tree\n",
    "from sklearn.tree import DecisionTreeClassifier\n",
    "from sklearn.model_selection import cross_val_score\n",
    "from sklearn.metrics import accuracy_score, confusion_matrix\n",
    "\n",
    "#----------------------------------------------------------\n",
    "# List for the models\n",
    "#----------------------------------------------------------\n",
    "second_set = []\n",
    "\n",
    "#----------------------------------------------------------\n",
    "# List of the maximum depths for the trees\n",
    "#----------------------------------------------------------\n",
    "max_depths = range(5, 55, 5)\n",
    "\n",
    "for max_depth in max_depths:\n",
    "    # Create the decision tree\n",
    "    model = DecisionTreeClassifier(criterion=\"entropy\", splitter=\"best\", max_depth=max_depth, random_state=123)\n",
    "    # Train the model\n",
    "    model.fit(X_train, y_train)\n",
    "    # Test the model\n",
    "    y_pred = model.predict(X_test)\n",
    "    # Calculate the accuracy\n",
    "    accuracy = round(accuracy_score(y_test, y_pred), 4)\n",
    "    # Calculate the Cross-Validation scores\n",
    "    scores = cross_val_score(model, X_train, y_train, cv=5, scoring='accuracy')\n",
    "    # Mean of the CV scores\n",
    "    scores_mean = scores.mean()\n",
    "    # Calculate the confusion matrix of the model\n",
    "    confusion = confusion_matrix(y_test, y_pred)\n",
    "    # Save the result\n",
    "    print(\"----------------------------------\")\n",
    "    print(f\"Cross-Validation scores for max_depth = {max_depth}:\")\n",
    "    print(scores)\n",
    "    second_set.append({\"Depth\": max_depth, \n",
    "                      \"Scores (mean)\": scores_mean, \n",
    "                      \"Accuracy\": accuracy, \n",
    "                      \"Confusion matrix\": confusion})"
   ]
  },
  {
   "cell_type": "markdown",
   "id": "55da984d-f5c4-4987-85a2-b8343de6cbea",
   "metadata": {},
   "source": [
    "## 7. Incluya en el notebook una tabla con el accuracy para los 10 árboles del punto anterior"
   ]
  },
  {
   "cell_type": "code",
   "execution_count": 65,
   "id": "fa1cf0a6-1fa7-4466-b77e-30911e870589",
   "metadata": {},
   "outputs": [
    {
     "name": "stdout",
     "output_type": "stream",
     "text": [
      "   Depth  Scores (mean)  Accuracy      Confusion matrix\n",
      "0      5          0.752     0.743  [[80, 11], [25, 24]]\n",
      "1     10          0.691     0.743  [[71, 20], [16, 33]]\n",
      "2     15          0.682     0.743  [[74, 17], [19, 30]]\n",
      "3     20          0.670     0.721  [[74, 17], [22, 27]]\n",
      "4     25          0.679     0.707  [[74, 17], [24, 25]]\n",
      "5     30          0.679     0.707  [[74, 17], [24, 25]]\n",
      "6     35          0.679     0.707  [[74, 17], [24, 25]]\n",
      "7     40          0.679     0.707  [[74, 17], [24, 25]]\n",
      "8     45          0.679     0.707  [[74, 17], [24, 25]]\n",
      "9     50          0.679     0.707  [[74, 17], [24, 25]]\n"
     ]
    }
   ],
   "source": [
    "import pandas as pd\n",
    "\n",
    "#----------------------------------------------------------\n",
    "# Table of results\n",
    "#----------------------------------------------------------\n",
    "second_table = pd.DataFrame(second_set)\n",
    "with pd.option_context('display.max_rows', None,\n",
    "                       'display.max_columns', None,\n",
    "                       'display.precision', 3,\n",
    "                       ):\n",
    "    print(second_table)"
   ]
  },
  {
   "cell_type": "markdown",
   "id": "5049f5c7-3a4e-4b6f-b1ec-e4aa9adbf592",
   "metadata": {},
   "source": [
    "### Mejor árbol"
   ]
  },
  {
   "cell_type": "code",
   "execution_count": 66,
   "id": "c8b9ac0e-382c-463b-8a46-b31e8d1e290e",
   "metadata": {},
   "outputs": [
    {
     "name": "stdout",
     "output_type": "stream",
     "text": [
      "* 5\n",
      "* 0.7517857142857143\n",
      "* 0.7429\n"
     ]
    }
   ],
   "source": [
    "#----------------------------------------------------------\n",
    "# Model with the maximun accuracy\n",
    "#----------------------------------------------------------\n",
    "second_max_accuracy_model = max(second_set, key=lambda x: x[\"Accuracy\"])\n",
    "\n",
    "print(\"*\", second_max_accuracy_model[\"Depth\"])\n",
    "print(\"*\", second_max_accuracy_model[\"Scores (mean)\"])\n",
    "print(\"*\", second_max_accuracy_model[\"Accuracy\"])"
   ]
  },
  {
   "cell_type": "markdown",
   "id": "4e7664d7-8afa-41d7-9680-95e2c0b60e8e",
   "metadata": {},
   "source": [
    "Para los hiperparámetros criterion='entropy', splitter='best' y random_state=123 el árbol con mejor *accuracy* es:\n",
    "\n",
    "**Profundidad:** 5 <br>\n",
    "**Promedio de puntajes:** 0,7518 <br>\n",
    "**Accuracy:** 0.7429"
   ]
  },
  {
   "cell_type": "markdown",
   "id": "11131f93-3df0-46f5-a73f-e7e42d8a48c3",
   "metadata": {},
   "source": [
    "### Matriz de confusión"
   ]
  },
  {
   "cell_type": "code",
   "execution_count": 85,
   "id": "006c4d97-8a0d-45e4-98c1-402de4cfcb7c",
   "metadata": {},
   "outputs": [
    {
     "data": {
      "image/png": "[encoded data removed]",
      "text/plain": [
       "<Figure size 640x480 with 2 Axes>"
      ]
     },
     "metadata": {},
     "output_type": "display_data"
    }
   ],
   "source": [
    "import matplotlib.pyplot as plt\n",
    "import seaborn as sns\n",
    "\n",
    "ax = plt.subplot()\n",
    "sns.heatmap(second_max_accuracy_model['Confusion matrix'], annot=True, ax = ax, fmt='d')\n",
    "\n",
    "ax.set_xlabel('Predicted labels')\n",
    "ax.set_ylabel('Actual labels') \n",
    "ax.set_title('Confusion Matrix - Stroke') \n",
    "ax.xaxis.set_ticklabels(['Negative = 0', 'Positive = 1'])\n",
    "ax.yaxis.set_ticklabels(['Negative = 0', 'Positive = 1']);\n",
    "plt.show();"
   ]
  },
  {
   "cell_type": "markdown",
   "id": "5f791100-61b6-4e6d-ba80-ac5874deefc9",
   "metadata": {},
   "source": [
    "## 8. Repita el mismo procedimiento del punto 4 usando como hiperparámetros criterion=entropy, splitter=random, random_state=123, y variando el hiperparámetro max_depth desde 5 hasta 50 con incrementos de 5"
   ]
  },
  {
   "cell_type": "code",
   "execution_count": 72,
   "id": "6f551179-6a95-4da9-81c0-4180d4883615",
   "metadata": {},
   "outputs": [
    {
     "name": "stdout",
     "output_type": "stream",
     "text": [
      "----------------------------------\n",
      "Cross-Validation scores for max_depth = 5:\n",
      "[0.76785714 0.77678571 0.72321429 0.78571429 0.71428571]\n",
      "----------------------------------\n",
      "Cross-Validation scores for max_depth = 10:\n",
      "[0.77678571 0.75       0.6875     0.70535714 0.67857143]\n",
      "----------------------------------\n",
      "Cross-Validation scores for max_depth = 15:\n",
      "[0.73214286 0.73214286 0.69642857 0.70535714 0.6875    ]\n",
      "----------------------------------\n",
      "Cross-Validation scores for max_depth = 20:\n",
      "[0.75       0.71428571 0.69642857 0.69642857 0.72321429]\n",
      "----------------------------------\n",
      "Cross-Validation scores for max_depth = 25:\n",
      "[0.75       0.72321429 0.69642857 0.69642857 0.72321429]\n",
      "----------------------------------\n",
      "Cross-Validation scores for max_depth = 30:\n",
      "[0.75       0.72321429 0.69642857 0.69642857 0.72321429]\n",
      "----------------------------------\n",
      "Cross-Validation scores for max_depth = 35:\n",
      "[0.75       0.72321429 0.69642857 0.69642857 0.72321429]\n",
      "----------------------------------\n",
      "Cross-Validation scores for max_depth = 40:\n",
      "[0.75       0.72321429 0.69642857 0.69642857 0.72321429]\n",
      "----------------------------------\n",
      "Cross-Validation scores for max_depth = 45:\n",
      "[0.75       0.72321429 0.69642857 0.69642857 0.72321429]\n",
      "----------------------------------\n",
      "Cross-Validation scores for max_depth = 50:\n",
      "[0.75       0.72321429 0.69642857 0.69642857 0.72321429]\n"
     ]
    }
   ],
   "source": [
    "from sklearn import tree\n",
    "from sklearn.tree import DecisionTreeClassifier\n",
    "from sklearn.model_selection import cross_val_score\n",
    "from sklearn.metrics import accuracy_score, confusion_matrix\n",
    "\n",
    "#----------------------------------------------------------\n",
    "# List for the models\n",
    "#----------------------------------------------------------\n",
    "third_set = []\n",
    "\n",
    "#----------------------------------------------------------\n",
    "# List of the maximum depths for the trees\n",
    "#----------------------------------------------------------\n",
    "max_depths = range(5, 55, 5)\n",
    "\n",
    "for max_depth in max_depths:\n",
    "    # Create the decision tree\n",
    "    model = DecisionTreeClassifier(criterion=\"entropy\", splitter=\"random\", max_depth=max_depth, random_state=123)\n",
    "    # Train the model\n",
    "    model.fit(X_train, y_train)\n",
    "    # Test the model\n",
    "    y_pred = model.predict(X_test)\n",
    "    # Calculate the accuracy\n",
    "    accuracy = round(accuracy_score(y_test, y_pred), 4)\n",
    "    # Calculate the Cross-Validation scores\n",
    "    scores = cross_val_score(model, X_train, y_train, cv=5, scoring='accuracy')\n",
    "    # Mean of the CV scores\n",
    "    scores_mean = scores.mean()\n",
    "    # Calculate the confusion matrix of the model\n",
    "    confusion = confusion_matrix(y_test, y_pred)\n",
    "    # Save the result\n",
    "    print(\"----------------------------------\")\n",
    "    print(f\"Cross-Validation scores for max_depth = {max_depth}:\")\n",
    "    print(scores)\n",
    "    third_set.append({\"Depth\": max_depth, \n",
    "                      \"Scores (mean)\": scores_mean, \n",
    "                      \"Accuracy\": accuracy, \n",
    "                      \"Confusion matrix\": confusion})"
   ]
  },
  {
   "cell_type": "markdown",
   "id": "23d4c491-5910-40c5-bc4a-a9d48e6b6711",
   "metadata": {},
   "source": [
    "## 9. Incluya en el notebook una tabla con el accuracy para los 10 árboles del punto anterior"
   ]
  },
  {
   "cell_type": "code",
   "execution_count": 73,
   "id": "2195dc19-00d0-4d47-a48b-3282c1451511",
   "metadata": {},
   "outputs": [
    {
     "name": "stdout",
     "output_type": "stream",
     "text": [
      "   Depth  Scores (mean)  Accuracy      Confusion matrix\n",
      "0      5          0.754     0.743  [[77, 14], [22, 27]]\n",
      "1     10          0.720     0.714  [[73, 18], [22, 27]]\n",
      "2     15          0.711     0.679  [[72, 19], [26, 23]]\n",
      "3     20          0.716     0.729  [[75, 16], [22, 27]]\n",
      "4     25          0.718     0.729  [[75, 16], [22, 27]]\n",
      "5     30          0.718     0.729  [[75, 16], [22, 27]]\n",
      "6     35          0.718     0.729  [[75, 16], [22, 27]]\n",
      "7     40          0.718     0.729  [[75, 16], [22, 27]]\n",
      "8     45          0.718     0.729  [[75, 16], [22, 27]]\n",
      "9     50          0.718     0.729  [[75, 16], [22, 27]]\n"
     ]
    }
   ],
   "source": [
    "import pandas as pd\n",
    "\n",
    "#----------------------------------------------------------\n",
    "# Table of results\n",
    "#----------------------------------------------------------\n",
    "third_table = pd.DataFrame(third_set)\n",
    "with pd.option_context('display.max_rows', None,\n",
    "                       'display.max_columns', None,\n",
    "                       'display.precision', 3,\n",
    "                       ):\n",
    "    print(third_table)"
   ]
  },
  {
   "cell_type": "markdown",
   "id": "d4c0b81a-9f07-4eb2-9ff1-72ccd63df43b",
   "metadata": {},
   "source": [
    "### Mejor árbol"
   ]
  },
  {
   "cell_type": "code",
   "execution_count": 74,
   "id": "458660cd-ca2e-4b0b-93e5-72a57344d269",
   "metadata": {},
   "outputs": [
    {
     "name": "stdout",
     "output_type": "stream",
     "text": [
      "* 5\n",
      "* 0.7535714285714286\n",
      "* 0.7429\n"
     ]
    }
   ],
   "source": [
    "#----------------------------------------------------------\n",
    "# Model with the maximun accuracy\n",
    "#----------------------------------------------------------\n",
    "third_max_accuracy_model = max(third_set, key=lambda x: x[\"Accuracy\"])\n",
    "\n",
    "print(\"*\", third_max_accuracy_model[\"Depth\"])\n",
    "print(\"*\", third_max_accuracy_model[\"Scores (mean)\"])\n",
    "print(\"*\", third_max_accuracy_model[\"Accuracy\"])"
   ]
  },
  {
   "cell_type": "markdown",
   "id": "63b19224-28fe-4ad1-a483-5d22ebf6b7e9",
   "metadata": {},
   "source": [
    "Para los hiperparámetros criterion='entropy', splitter='random' y random_state=123 el árbol con mejor *accuracy* es:\n",
    "\n",
    "**Profundidad:** 5 <br>\n",
    "**Promedio de puntajes:** 0,7536 <br>\n",
    "**Accuracy:** 0.7429"
   ]
  },
  {
   "cell_type": "markdown",
   "id": "0e793378-cc9c-4db1-b8f3-c92f14f0467c",
   "metadata": {},
   "source": [
    "### Matriz de confusión"
   ]
  },
  {
   "cell_type": "code",
   "execution_count": 84,
   "id": "3b403009-45ac-4872-a9d0-2b07e313200e",
   "metadata": {},
   "outputs": [
    {
     "data": {
      "image/png": "[encoded data removed]",
      "text/plain": [
       "<Figure size 640x480 with 2 Axes>"
      ]
     },
     "metadata": {},
     "output_type": "display_data"
    }
   ],
   "source": [
    "import matplotlib.pyplot as plt\n",
    "import seaborn as sns\n",
    "\n",
    "ax = plt.subplot()\n",
    "sns.heatmap(third_max_accuracy_model['Confusion matrix'], annot=True, ax = ax, fmt='d')\n",
    "\n",
    "ax.set_xlabel('Predicted labels')\n",
    "ax.set_ylabel('Actual labels') \n",
    "ax.set_title('Confusion Matrix - Stroke') \n",
    "ax.xaxis.set_ticklabels(['Negative = 0', 'Positive = 1'])\n",
    "ax.yaxis.set_ticklabels(['Negative = 0', 'Positive = 1']);\n",
    "plt.show();"
   ]
  },
  {
   "cell_type": "markdown",
   "id": "76f67af0-78a3-41bb-be08-ac3431fa6674",
   "metadata": {},
   "source": [
    "## 10. Indique en el notebook los hiperparámetros que por el momento le permiten obtener el árbol con mayor *accuracy*"
   ]
  },
  {
   "cell_type": "code",
   "execution_count": 78,
   "id": "bd82a3b3-3e03-4c01-84e7-7dc1f98c73df",
   "metadata": {},
   "outputs": [
    {
     "name": "stdout",
     "output_type": "stream",
     "text": [
      "First\n",
      "--------------------------\n",
      "* 0.7357\n",
      "* 0.7392857142857143\n",
      "--------------------------\n",
      "Second\n",
      "--------------------------\n",
      "* 0.7429\n",
      "* 0.7517857142857143\n",
      "--------------------------\n",
      "Third\n",
      "--------------------------\n",
      "* 0.7429\n",
      "* 0.7535714285714286\n",
      "--------------------------\n"
     ]
    }
   ],
   "source": [
    "#----------------------------------------------------------\n",
    "# First model with the maximun accuracy\n",
    "#----------------------------------------------------------\n",
    "print(\"First\")\n",
    "print(\"--------------------------\")\n",
    "print(\"*\", first_max_accuracy_model[\"Accuracy\"])\n",
    "print(\"*\", first_max_accuracy_model[\"Scores (mean)\"])\n",
    "print(\"--------------------------\")\n",
    "\n",
    "#----------------------------------------------------------\n",
    "# Second model with the maximun accuracy\n",
    "#----------------------------------------------------------\n",
    "print(\"Second\")\n",
    "print(\"--------------------------\")\n",
    "print(\"*\", second_max_accuracy_model[\"Accuracy\"])\n",
    "print(\"*\", second_max_accuracy_model[\"Scores (mean)\"])\n",
    "print(\"--------------------------\")\n",
    "\n",
    "#----------------------------------------------------------\n",
    "# Third model with the maximun accuracy\n",
    "#----------------------------------------------------------\n",
    "print(\"Third\")\n",
    "print(\"--------------------------\")\n",
    "print(\"*\", third_max_accuracy_model[\"Accuracy\"])\n",
    "print(\"*\", third_max_accuracy_model[\"Scores (mean)\"])\n",
    "print(\"--------------------------\")"
   ]
  },
  {
   "cell_type": "markdown",
   "id": "d82bccaa-5ede-46d7-a02b-98f100613670",
   "metadata": {},
   "source": [
    "Dado a que los modelos del punto 6 y 8 proporcionan el mismo *accuracy*, se tienen en cuenta la media de *scores*. Así, el modelo con mayor *accuracy* es el del punto 8, con los siguientes hiperparámtros:\n",
    "\n",
    "**Cirterion:** *entropy* <br>\n",
    "**Splitter:** *random* <br>\n",
    "**Random_State:** 123 <br>\n",
    "**Profundidad:** 5 <br>\n",
    "**Promedio de puntajes:** 0,7536 <br>\n",
    "**Accuracy:** 0.7429"
   ]
  },
  {
   "cell_type": "markdown",
   "id": "68472d5c-1c0f-4ff4-8aca-af53b3e9f927",
   "metadata": {},
   "source": [
    "## 11. Seleccione uno de los hiperparámetros disponibles en la documentación que sea diferente al criterion, splitter, max_depth, y random_state. Realice dos variaciones en el hiperparámetro seleccionado manteniendo los otros hiperparámetros del punto anterior. Indique el accuracy obtenido al modificar el hiperparámetro seleccionado y analice si el árbol de decisión mejora, empeora, o mantiene su exactitud."
   ]
  },
  {
   "cell_type": "code",
   "execution_count": 89,
   "id": "db976434-a9cf-4359-abf0-f2d5afb421bd",
   "metadata": {},
   "outputs": [
    {
     "name": "stdout",
     "output_type": "stream",
     "text": [
      "----------------------------------\n",
      "Cross-Validation scores for max_depth = 50:\n",
      "[0.6875     0.66964286 0.70535714 0.72321429 0.75892857]\n",
      "----------------------------------\n",
      "Cross-Validation scores for max_depth = 50:\n",
      "[0.6875     0.66964286 0.70535714 0.72321429 0.75892857]\n",
      "----------------------------------\n",
      "Cross-Validation scores for max_depth = 50:\n",
      "[0.6875     0.66964286 0.70535714 0.72321429 0.75892857]\n"
     ]
    }
   ],
   "source": [
    "from sklearn import tree\n",
    "from sklearn.tree import DecisionTreeClassifier\n",
    "from sklearn.model_selection import cross_val_score\n",
    "from sklearn.metrics import accuracy_score, confusion_matrix\n",
    "\n",
    "#----------------------------------------------------------\n",
    "# List for the models\n",
    "#----------------------------------------------------------\n",
    "new_results = []\n",
    "\n",
    "#----------------------------------------------------------\n",
    "# Number of features to consider when looking for the best split\n",
    "#----------------------------------------------------------\n",
    "max_features = ['auto', 'sqrt', 'log2']\n",
    "\n",
    "for max_f in max_features:\n",
    "    # Create the decision tree\n",
    "    model = DecisionTreeClassifier(criterion=\"entropy\", splitter=\"random\", max_depth=5, random_state=123, max_features=max_f)\n",
    "    # Train the model\n",
    "    model.fit(X_train, y_train)\n",
    "    # Test the model\n",
    "    y_pred = model.predict(X_test)\n",
    "    # Calculate the accuracy\n",
    "    accuracy = round(accuracy_score(y_test, y_pred), 4)\n",
    "    # Calculate the Cross-Validation scores\n",
    "    scores = cross_val_score(model, X_train, y_train, cv=5, scoring='accuracy')\n",
    "    # Mean of the CV scores\n",
    "    scores_mean = scores.mean()\n",
    "    # Calculate the confusion matrix of the model\n",
    "    confusion = confusion_matrix(y_test, y_pred)\n",
    "    # Save the result\n",
    "    print(\"----------------------------------\")\n",
    "    print(f\"Cross-Validation scores for max_depth = {max_depth}:\")\n",
    "    print(scores)\n",
    "    new_results.append({\"Scores (mean)\": scores_mean, \n",
    "                        \"Accuracy\": accuracy, \n",
    "                        \"Confusion matrix\": confusion})"
   ]
  },
  {
   "cell_type": "code",
   "execution_count": 90,
   "id": "1dc20727-2314-4da4-a97b-296425bc39d8",
   "metadata": {},
   "outputs": [
    {
     "data": {
      "text/html": [
       "<div>\n",
       "<style scoped>\n",
       "    .dataframe tbody tr th:only-of-type {\n",
       "        vertical-align: middle;\n",
       "    }\n",
       "\n",
       "    .dataframe tbody tr th {\n",
       "        vertical-align: top;\n",
       "    }\n",
       "\n",
       "    .dataframe thead th {\n",
       "        text-align: right;\n",
       "    }\n",
       "</style>\n",
       "<table border=\"1\" class=\"dataframe\">\n",
       "  <thead>\n",
       "    <tr style=\"text-align: right;\">\n",
       "      <th></th>\n",
       "      <th>Scores (mean)</th>\n",
       "      <th>Accuracy</th>\n",
       "      <th>Confusion matrix</th>\n",
       "    </tr>\n",
       "  </thead>\n",
       "  <tbody>\n",
       "    <tr>\n",
       "      <th>0</th>\n",
       "      <td>0.708929</td>\n",
       "      <td>0.7071</td>\n",
       "      <td>[[91, 0], [41, 8]]</td>\n",
       "    </tr>\n",
       "    <tr>\n",
       "      <th>1</th>\n",
       "      <td>0.708929</td>\n",
       "      <td>0.7071</td>\n",
       "      <td>[[91, 0], [41, 8]]</td>\n",
       "    </tr>\n",
       "    <tr>\n",
       "      <th>2</th>\n",
       "      <td>0.708929</td>\n",
       "      <td>0.7071</td>\n",
       "      <td>[[91, 0], [41, 8]]</td>\n",
       "    </tr>\n",
       "  </tbody>\n",
       "</table>\n",
       "</div>"
      ],
      "text/plain": [
       "   Scores (mean)  Accuracy    Confusion matrix\n",
       "0       0.708929    0.7071  [[91, 0], [41, 8]]\n",
       "1       0.708929    0.7071  [[91, 0], [41, 8]]\n",
       "2       0.708929    0.7071  [[91, 0], [41, 8]]"
      ]
     },
     "metadata": {},
     "output_type": "display_data"
    }
   ],
   "source": [
    "import pandas as pd\n",
    "\n",
    "#----------------------------------------------------------\n",
    "# Modified decision tree results\n",
    "#----------------------------------------------------------\n",
    "new_table = pd.DataFrame(new_results)\n",
    "display(new_table)"
   ]
  },
  {
   "cell_type": "code",
   "execution_count": 91,
   "id": "f819cf91-2d8e-486d-b170-75746bb67818",
   "metadata": {},
   "outputs": [
    {
     "name": "stdout",
     "output_type": "stream",
     "text": [
      "Accuracy del árbol de decisión del punto 8 (mejor hasta ahora): 0.7429\n",
      "Accuracy del árbol de decisión del punto 11 (modificado) 0.7071\n"
     ]
    }
   ],
   "source": [
    "#----------------------------------------------------------\n",
    "# Original decision tree accuracy\n",
    "#----------------------------------------------------------\n",
    "print(\"Accuracy del árbol de decisión del punto 8 (mejor hasta ahora):\", third_max_accuracy_model[\"Accuracy\"])\n",
    "\n",
    "#----------------------------------------------------------\n",
    "# Modifed decision tree accuracy\n",
    "#----------------------------------------------------------\n",
    "max_accuracy_n = max(new_results, key=lambda x: x[\"Accuracy\"])\n",
    "\n",
    "print(\"Accuracy del árbol de decisión del punto 11 (modificado)\", max_accuracy_n[\"Accuracy\"])"
   ]
  },
  {
   "cell_type": "markdown",
   "id": "9dfcb3e0-4b8e-4d69-a117-1be969e3f127",
   "metadata": {},
   "source": [
    "### Análisis"
   ]
  },
  {
   "cell_type": "markdown",
   "id": "84197fb5-53b5-4314-a624-7e09e0f3647a",
   "metadata": {},
   "source": [
    "Con base en el hecho de que el árbol de decisión modificado en el punto 11, presentó una reducción en el *accuracy*, se puede concluir que el árbol empeoró al modificar el parámetro 'max_features'.\n",
    "\n",
    "Por lo tanto, el árbol de decisión que mejores resultados genera, tiene los siguientes hiperparámetros:\n",
    "\n",
    "**Cirterion:** *entropy* <br>\n",
    "**Splitter:** *random* <br>\n",
    "**Random_State:** 123 <br>\n",
    "**Profundidad:** 5 <br>\n",
    "**Promedio de puntajes:** 0,7536 <br>\n",
    "**Accuracy:** 0.7429 <br>\n",
    "**Matriz de confusión:** [[77 14], [22, 27]]"
   ]
  }
 ],
 "metadata": {
  "kernelspec": {
   "display_name": "Python 3 (ipykernel)",
   "language": "python",
   "name": "python3"
  },
  "language_info": {
   "codemirror_mode": {
    "name": "ipython",
    "version": 3
   },
   "file_extension": ".py",
   "mimetype": "text/x-python",
   "name": "python",
   "nbconvert_exporter": "python",
   "pygments_lexer": "ipython3",
   "version": "3.9.13"
  }
 },
 "nbformat": 4,
 "nbformat_minor": 5
}
